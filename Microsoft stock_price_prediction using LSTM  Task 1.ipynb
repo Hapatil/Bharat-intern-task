{
 "cells": [
  {
   "cell_type": "markdown",
   "metadata": {},
   "source": [
    "# Stock Price Prediction of Microsoft"
   ]
  },
  {
   "cell_type": "code",
   "execution_count": 1,
   "metadata": {},
   "outputs": [],
   "source": [
    "import pandas as pd\n",
    "import numpy as np\n",
    "%matplotlib inline\n",
    "import matplotlib.pyplot as plt\n",
    "import matplotlib\n",
    "from sklearn.preprocessing import MinMaxScaler\n",
    "from keras.layers import LSTM,Dense,Dropout\n",
    "from sklearn.model_selection import TimeSeriesSplit\n",
    "from sklearn.metrics import mean_squared_error, r2_score\n",
    "import matplotlib.dates as mdates\n",
    "from sklearn import linear_model"
   ]
  },
  {
   "cell_type": "markdown",
   "metadata": {},
   "source": [
    "# Reading data using parse date\n",
    "As it is timeseries data so we have to read the data by parsing date means making data column as index."
   ]
  },
  {
   "cell_type": "code",
   "execution_count": 2,
   "metadata": {},
   "outputs": [],
   "source": [
    "df_final = pd.read_csv(\"MSFT.csv\",na_values=['null'],index_col='Date',parse_dates=True,infer_datetime_format=True)"
   ]
  },
  {
   "cell_type": "code",
   "execution_count": 3,
   "metadata": {},
   "outputs": [
    {
     "data": {
      "text/html": [
       "<div>\n",
       "<style scoped>\n",
       "    .dataframe tbody tr th:only-of-type {\n",
       "        vertical-align: middle;\n",
       "    }\n",
       "\n",
       "    .dataframe tbody tr th {\n",
       "        vertical-align: top;\n",
       "    }\n",
       "\n",
       "    .dataframe thead th {\n",
       "        text-align: right;\n",
       "    }\n",
       "</style>\n",
       "<table border=\"1\" class=\"dataframe\">\n",
       "  <thead>\n",
       "    <tr style=\"text-align: right;\">\n",
       "      <th></th>\n",
       "      <th>Open</th>\n",
       "      <th>High</th>\n",
       "      <th>Low</th>\n",
       "      <th>Close</th>\n",
       "      <th>Adj Close</th>\n",
       "      <th>Volume</th>\n",
       "    </tr>\n",
       "    <tr>\n",
       "      <th>Date</th>\n",
       "      <th></th>\n",
       "      <th></th>\n",
       "      <th></th>\n",
       "      <th></th>\n",
       "      <th></th>\n",
       "      <th></th>\n",
       "    </tr>\n",
       "  </thead>\n",
       "  <tbody>\n",
       "    <tr>\n",
       "      <th>1986-03-13</th>\n",
       "      <td>0.088542</td>\n",
       "      <td>0.101563</td>\n",
       "      <td>0.088542</td>\n",
       "      <td>0.097222</td>\n",
       "      <td>0.061434</td>\n",
       "      <td>1031788800</td>\n",
       "    </tr>\n",
       "    <tr>\n",
       "      <th>1986-03-14</th>\n",
       "      <td>0.097222</td>\n",
       "      <td>0.102431</td>\n",
       "      <td>0.097222</td>\n",
       "      <td>0.100694</td>\n",
       "      <td>0.063628</td>\n",
       "      <td>308160000</td>\n",
       "    </tr>\n",
       "    <tr>\n",
       "      <th>1986-03-17</th>\n",
       "      <td>0.100694</td>\n",
       "      <td>0.103299</td>\n",
       "      <td>0.100694</td>\n",
       "      <td>0.102431</td>\n",
       "      <td>0.064725</td>\n",
       "      <td>133171200</td>\n",
       "    </tr>\n",
       "    <tr>\n",
       "      <th>1986-03-18</th>\n",
       "      <td>0.102431</td>\n",
       "      <td>0.103299</td>\n",
       "      <td>0.098958</td>\n",
       "      <td>0.099826</td>\n",
       "      <td>0.063079</td>\n",
       "      <td>67766400</td>\n",
       "    </tr>\n",
       "    <tr>\n",
       "      <th>1986-03-19</th>\n",
       "      <td>0.099826</td>\n",
       "      <td>0.100694</td>\n",
       "      <td>0.097222</td>\n",
       "      <td>0.098090</td>\n",
       "      <td>0.061982</td>\n",
       "      <td>47894400</td>\n",
       "    </tr>\n",
       "  </tbody>\n",
       "</table>\n",
       "</div>"
      ],
      "text/plain": [
       "                Open      High       Low     Close  Adj Close      Volume\n",
       "Date                                                                     \n",
       "1986-03-13  0.088542  0.101563  0.088542  0.097222   0.061434  1031788800\n",
       "1986-03-14  0.097222  0.102431  0.097222  0.100694   0.063628   308160000\n",
       "1986-03-17  0.100694  0.103299  0.100694  0.102431   0.064725   133171200\n",
       "1986-03-18  0.102431  0.103299  0.098958  0.099826   0.063079    67766400\n",
       "1986-03-19  0.099826  0.100694  0.097222  0.098090   0.061982    47894400"
      ]
     },
     "execution_count": 3,
     "metadata": {},
     "output_type": "execute_result"
    }
   ],
   "source": [
    "df_final.head()"
   ]
  },
  {
   "cell_type": "code",
   "execution_count": 4,
   "metadata": {},
   "outputs": [
    {
     "data": {
      "text/plain": [
       "(9083, 6)"
      ]
     },
     "execution_count": 4,
     "metadata": {},
     "output_type": "execute_result"
    }
   ],
   "source": [
    "\n",
    "df_final.shape"
   ]
  },
  {
   "cell_type": "code",
   "execution_count": 5,
   "metadata": {},
   "outputs": [
    {
     "data": {
      "text/html": [
       "<div>\n",
       "<style scoped>\n",
       "    .dataframe tbody tr th:only-of-type {\n",
       "        vertical-align: middle;\n",
       "    }\n",
       "\n",
       "    .dataframe tbody tr th {\n",
       "        vertical-align: top;\n",
       "    }\n",
       "\n",
       "    .dataframe thead th {\n",
       "        text-align: right;\n",
       "    }\n",
       "</style>\n",
       "<table border=\"1\" class=\"dataframe\">\n",
       "  <thead>\n",
       "    <tr style=\"text-align: right;\">\n",
       "      <th></th>\n",
       "      <th>Open</th>\n",
       "      <th>High</th>\n",
       "      <th>Low</th>\n",
       "      <th>Close</th>\n",
       "      <th>Adj Close</th>\n",
       "      <th>Volume</th>\n",
       "    </tr>\n",
       "  </thead>\n",
       "  <tbody>\n",
       "    <tr>\n",
       "      <th>count</th>\n",
       "      <td>9083.000000</td>\n",
       "      <td>9083.000000</td>\n",
       "      <td>9083.000000</td>\n",
       "      <td>9083.000000</td>\n",
       "      <td>9083.000000</td>\n",
       "      <td>9.083000e+03</td>\n",
       "    </tr>\n",
       "    <tr>\n",
       "      <th>mean</th>\n",
       "      <td>41.324936</td>\n",
       "      <td>41.760887</td>\n",
       "      <td>40.878488</td>\n",
       "      <td>41.335628</td>\n",
       "      <td>36.256120</td>\n",
       "      <td>5.875055e+07</td>\n",
       "    </tr>\n",
       "    <tr>\n",
       "      <th>std</th>\n",
       "      <td>59.696905</td>\n",
       "      <td>60.272218</td>\n",
       "      <td>59.081728</td>\n",
       "      <td>59.714567</td>\n",
       "      <td>59.981436</td>\n",
       "      <td>3.845200e+07</td>\n",
       "    </tr>\n",
       "    <tr>\n",
       "      <th>min</th>\n",
       "      <td>0.088542</td>\n",
       "      <td>0.092014</td>\n",
       "      <td>0.088542</td>\n",
       "      <td>0.090278</td>\n",
       "      <td>0.057046</td>\n",
       "      <td>2.304000e+06</td>\n",
       "    </tr>\n",
       "    <tr>\n",
       "      <th>25%</th>\n",
       "      <td>4.050781</td>\n",
       "      <td>4.102051</td>\n",
       "      <td>4.027344</td>\n",
       "      <td>4.075195</td>\n",
       "      <td>2.575089</td>\n",
       "      <td>3.461230e+07</td>\n",
       "    </tr>\n",
       "    <tr>\n",
       "      <th>50%</th>\n",
       "      <td>26.820000</td>\n",
       "      <td>27.100000</td>\n",
       "      <td>26.520000</td>\n",
       "      <td>26.840000</td>\n",
       "      <td>18.948530</td>\n",
       "      <td>5.203200e+07</td>\n",
       "    </tr>\n",
       "    <tr>\n",
       "      <th>75%</th>\n",
       "      <td>40.034999</td>\n",
       "      <td>40.443751</td>\n",
       "      <td>39.500000</td>\n",
       "      <td>39.937500</td>\n",
       "      <td>29.244812</td>\n",
       "      <td>7.265400e+07</td>\n",
       "    </tr>\n",
       "    <tr>\n",
       "      <th>max</th>\n",
       "      <td>344.619995</td>\n",
       "      <td>349.670013</td>\n",
       "      <td>342.200012</td>\n",
       "      <td>343.109985</td>\n",
       "      <td>342.402008</td>\n",
       "      <td>1.031789e+09</td>\n",
       "    </tr>\n",
       "  </tbody>\n",
       "</table>\n",
       "</div>"
      ],
      "text/plain": [
       "              Open         High          Low        Close    Adj Close  \\\n",
       "count  9083.000000  9083.000000  9083.000000  9083.000000  9083.000000   \n",
       "mean     41.324936    41.760887    40.878488    41.335628    36.256120   \n",
       "std      59.696905    60.272218    59.081728    59.714567    59.981436   \n",
       "min       0.088542     0.092014     0.088542     0.090278     0.057046   \n",
       "25%       4.050781     4.102051     4.027344     4.075195     2.575089   \n",
       "50%      26.820000    27.100000    26.520000    26.840000    18.948530   \n",
       "75%      40.034999    40.443751    39.500000    39.937500    29.244812   \n",
       "max     344.619995   349.670013   342.200012   343.109985   342.402008   \n",
       "\n",
       "             Volume  \n",
       "count  9.083000e+03  \n",
       "mean   5.875055e+07  \n",
       "std    3.845200e+07  \n",
       "min    2.304000e+06  \n",
       "25%    3.461230e+07  \n",
       "50%    5.203200e+07  \n",
       "75%    7.265400e+07  \n",
       "max    1.031789e+09  "
      ]
     },
     "execution_count": 5,
     "metadata": {},
     "output_type": "execute_result"
    }
   ],
   "source": [
    "df_final.describe()"
   ]
  },
  {
   "cell_type": "code",
   "execution_count": 6,
   "metadata": {},
   "outputs": [
    {
     "data": {
      "text/plain": [
       "False"
      ]
     },
     "execution_count": 6,
     "metadata": {},
     "output_type": "execute_result"
    }
   ],
   "source": [
    "df_final.isnull().values.any()"
   ]
  },
  {
   "cell_type": "code",
   "execution_count": 7,
   "metadata": {},
   "outputs": [
    {
     "data": {
      "text/plain": [
       "<AxesSubplot:xlabel='Date'>"
      ]
     },
     "execution_count": 7,
     "metadata": {},
     "output_type": "execute_result"
    },
    {
     "data": {
      "image/png": "[encoded data removed]",
      "text/plain": [
       "<Figure size 640x480 with 1 Axes>"
      ]
     },
     "metadata": {},
     "output_type": "display_data"
    }
   ],
   "source": [
    "df_final['Adj Close'].plot()"
   ]
  },
  {
   "cell_type": "markdown",
   "metadata": {},
   "source": [
    "# Correlation Analysis"
   ]
  },
  {
   "cell_type": "code",
   "execution_count": 8,
   "metadata": {},
   "outputs": [],
   "source": [
    "X=df_final.drop(['Adj Close'],axis=1)\n",
    "X=X.drop(['Close'],axis=1)"
   ]
  },
  {
   "cell_type": "code",
   "execution_count": 9,
   "metadata": {},
   "outputs": [
    {
     "data": {
      "text/plain": [
       "<AxesSubplot:title={'center':'Correlation with Adj Close'}>"
      ]
     },
     "execution_count": 9,
     "metadata": {},
     "output_type": "execute_result"
    },
    {
     "data": {
      "image/png": "[encoded data removed]",
      "text/plain": [
       "<Figure size 2000x1000 with 1 Axes>"
      ]
     },
     "metadata": {},
     "output_type": "display_data"
    }
   ],
   "source": [
    "X.corrwith(df_final['Adj Close']).plot.bar(\n",
    "        figsize = (20, 10), title = \"Correlation with Adj Close\", fontsize = 20,\n",
    "        rot = 90, grid = True)"
   ]
  },
  {
   "cell_type": "code",
   "execution_count": 10,
   "metadata": {},
   "outputs": [
    {
     "data": {
      "text/html": [
       "<div>\n",
       "<style scoped>\n",
       "    .dataframe tbody tr th:only-of-type {\n",
       "        vertical-align: middle;\n",
       "    }\n",
       "\n",
       "    .dataframe tbody tr th {\n",
       "        vertical-align: top;\n",
       "    }\n",
       "\n",
       "    .dataframe thead th {\n",
       "        text-align: right;\n",
       "    }\n",
       "</style>\n",
       "<table border=\"1\" class=\"dataframe\">\n",
       "  <thead>\n",
       "    <tr style=\"text-align: right;\">\n",
       "      <th></th>\n",
       "      <th>Open</th>\n",
       "      <th>High</th>\n",
       "      <th>Low</th>\n",
       "      <th>Close</th>\n",
       "      <th>Adj Close</th>\n",
       "      <th>Volume</th>\n",
       "    </tr>\n",
       "    <tr>\n",
       "      <th>Date</th>\n",
       "      <th></th>\n",
       "      <th></th>\n",
       "      <th></th>\n",
       "      <th></th>\n",
       "      <th></th>\n",
       "      <th></th>\n",
       "    </tr>\n",
       "  </thead>\n",
       "  <tbody>\n",
       "    <tr>\n",
       "      <th>1986-03-13</th>\n",
       "      <td>0.088542</td>\n",
       "      <td>0.101563</td>\n",
       "      <td>0.088542</td>\n",
       "      <td>0.097222</td>\n",
       "      <td>0.061434</td>\n",
       "      <td>1031788800</td>\n",
       "    </tr>\n",
       "    <tr>\n",
       "      <th>1986-03-14</th>\n",
       "      <td>0.097222</td>\n",
       "      <td>0.102431</td>\n",
       "      <td>0.097222</td>\n",
       "      <td>0.100694</td>\n",
       "      <td>0.063628</td>\n",
       "      <td>308160000</td>\n",
       "    </tr>\n",
       "    <tr>\n",
       "      <th>1986-03-17</th>\n",
       "      <td>0.100694</td>\n",
       "      <td>0.103299</td>\n",
       "      <td>0.100694</td>\n",
       "      <td>0.102431</td>\n",
       "      <td>0.064725</td>\n",
       "      <td>133171200</td>\n",
       "    </tr>\n",
       "    <tr>\n",
       "      <th>1986-03-18</th>\n",
       "      <td>0.102431</td>\n",
       "      <td>0.103299</td>\n",
       "      <td>0.098958</td>\n",
       "      <td>0.099826</td>\n",
       "      <td>0.063079</td>\n",
       "      <td>67766400</td>\n",
       "    </tr>\n",
       "    <tr>\n",
       "      <th>1986-03-19</th>\n",
       "      <td>0.099826</td>\n",
       "      <td>0.100694</td>\n",
       "      <td>0.097222</td>\n",
       "      <td>0.098090</td>\n",
       "      <td>0.061982</td>\n",
       "      <td>47894400</td>\n",
       "    </tr>\n",
       "  </tbody>\n",
       "</table>\n",
       "</div>"
      ],
      "text/plain": [
       "                Open      High       Low     Close  Adj Close      Volume\n",
       "Date                                                                     \n",
       "1986-03-13  0.088542  0.101563  0.088542  0.097222   0.061434  1031788800\n",
       "1986-03-14  0.097222  0.102431  0.097222  0.100694   0.063628   308160000\n",
       "1986-03-17  0.100694  0.103299  0.100694  0.102431   0.064725   133171200\n",
       "1986-03-18  0.102431  0.103299  0.098958  0.099826   0.063079    67766400\n",
       "1986-03-19  0.099826  0.100694  0.097222  0.098090   0.061982    47894400"
      ]
     },
     "metadata": {},
     "output_type": "display_data"
    }
   ],
   "source": [
    "test = df_final\n",
    "# Target column\n",
    "target_adj_close = pd.DataFrame(test['Adj Close'])\n",
    "display(test.head())"
   ]
  },
  {
   "cell_type": "code",
   "execution_count": 11,
   "metadata": {},
   "outputs": [],
   "source": [
    "# selecting Feature Columns\n",
    "feature_columns = ['Open', 'High', 'Low', 'Volume']"
   ]
  },
  {
   "cell_type": "markdown",
   "metadata": {},
   "source": [
    "# Normalizing the data"
   ]
  },
  {
   "cell_type": "code",
   "execution_count": 12,
   "metadata": {},
   "outputs": [
    {
     "data": {
      "text/html": [
       "<div>\n",
       "<style scoped>\n",
       "    .dataframe tbody tr th:only-of-type {\n",
       "        vertical-align: middle;\n",
       "    }\n",
       "\n",
       "    .dataframe tbody tr th {\n",
       "        vertical-align: top;\n",
       "    }\n",
       "\n",
       "    .dataframe thead th {\n",
       "        text-align: right;\n",
       "    }\n",
       "</style>\n",
       "<table border=\"1\" class=\"dataframe\">\n",
       "  <thead>\n",
       "    <tr style=\"text-align: right;\">\n",
       "      <th></th>\n",
       "      <th>Open</th>\n",
       "      <th>High</th>\n",
       "      <th>Low</th>\n",
       "      <th>Volume</th>\n",
       "    </tr>\n",
       "    <tr>\n",
       "      <th>Date</th>\n",
       "      <th></th>\n",
       "      <th></th>\n",
       "      <th></th>\n",
       "      <th></th>\n",
       "    </tr>\n",
       "  </thead>\n",
       "  <tbody>\n",
       "    <tr>\n",
       "      <th>1986-03-13</th>\n",
       "      <td>0.000000</td>\n",
       "      <td>0.000027</td>\n",
       "      <td>0.000000</td>\n",
       "      <td>1.000000</td>\n",
       "    </tr>\n",
       "    <tr>\n",
       "      <th>1986-03-14</th>\n",
       "      <td>0.000025</td>\n",
       "      <td>0.000030</td>\n",
       "      <td>0.000025</td>\n",
       "      <td>0.297096</td>\n",
       "    </tr>\n",
       "    <tr>\n",
       "      <th>1986-03-17</th>\n",
       "      <td>0.000035</td>\n",
       "      <td>0.000032</td>\n",
       "      <td>0.000036</td>\n",
       "      <td>0.127119</td>\n",
       "    </tr>\n",
       "    <tr>\n",
       "      <th>1986-03-18</th>\n",
       "      <td>0.000040</td>\n",
       "      <td>0.000032</td>\n",
       "      <td>0.000030</td>\n",
       "      <td>0.063588</td>\n",
       "    </tr>\n",
       "    <tr>\n",
       "      <th>1986-03-19</th>\n",
       "      <td>0.000033</td>\n",
       "      <td>0.000025</td>\n",
       "      <td>0.000025</td>\n",
       "      <td>0.044285</td>\n",
       "    </tr>\n",
       "  </tbody>\n",
       "</table>\n",
       "</div>"
      ],
      "text/plain": [
       "                Open      High       Low    Volume\n",
       "Date                                              \n",
       "1986-03-13  0.000000  0.000027  0.000000  1.000000\n",
       "1986-03-14  0.000025  0.000030  0.000025  0.297096\n",
       "1986-03-17  0.000035  0.000032  0.000036  0.127119\n",
       "1986-03-18  0.000040  0.000032  0.000030  0.063588\n",
       "1986-03-19  0.000033  0.000025  0.000025  0.044285"
      ]
     },
     "execution_count": 12,
     "metadata": {},
     "output_type": "execute_result"
    }
   ],
   "source": [
    "from sklearn.preprocessing import MinMaxScaler\n",
    "scaler = MinMaxScaler()\n",
    "feature_minmax_transform_data = scaler.fit_transform(test[feature_columns])\n",
    "feature_minmax_transform = pd.DataFrame(columns=feature_columns, data=feature_minmax_transform_data, index=test.index)\n",
    "feature_minmax_transform.head()"
   ]
  },
  {
   "cell_type": "code",
   "execution_count": 13,
   "metadata": {},
   "outputs": [
    {
     "data": {
      "text/html": [
       "<div>\n",
       "<style scoped>\n",
       "    .dataframe tbody tr th:only-of-type {\n",
       "        vertical-align: middle;\n",
       "    }\n",
       "\n",
       "    .dataframe tbody tr th {\n",
       "        vertical-align: top;\n",
       "    }\n",
       "\n",
       "    .dataframe thead th {\n",
       "        text-align: right;\n",
       "    }\n",
       "</style>\n",
       "<table border=\"1\" class=\"dataframe\">\n",
       "  <thead>\n",
       "    <tr style=\"text-align: right;\">\n",
       "      <th></th>\n",
       "      <th>Open</th>\n",
       "      <th>High</th>\n",
       "      <th>Low</th>\n",
       "      <th>Volume</th>\n",
       "    </tr>\n",
       "    <tr>\n",
       "      <th>Date</th>\n",
       "      <th></th>\n",
       "      <th></th>\n",
       "      <th></th>\n",
       "      <th></th>\n",
       "    </tr>\n",
       "  </thead>\n",
       "  <tbody>\n",
       "    <tr>\n",
       "      <th>1986-03-13</th>\n",
       "      <td>0.000000</td>\n",
       "      <td>0.000027</td>\n",
       "      <td>0.000000</td>\n",
       "      <td>1.000000</td>\n",
       "    </tr>\n",
       "    <tr>\n",
       "      <th>1986-03-14</th>\n",
       "      <td>0.000025</td>\n",
       "      <td>0.000030</td>\n",
       "      <td>0.000025</td>\n",
       "      <td>0.297096</td>\n",
       "    </tr>\n",
       "    <tr>\n",
       "      <th>1986-03-17</th>\n",
       "      <td>0.000035</td>\n",
       "      <td>0.000032</td>\n",
       "      <td>0.000036</td>\n",
       "      <td>0.127119</td>\n",
       "    </tr>\n",
       "    <tr>\n",
       "      <th>1986-03-18</th>\n",
       "      <td>0.000040</td>\n",
       "      <td>0.000032</td>\n",
       "      <td>0.000030</td>\n",
       "      <td>0.063588</td>\n",
       "    </tr>\n",
       "    <tr>\n",
       "      <th>1986-03-19</th>\n",
       "      <td>0.000033</td>\n",
       "      <td>0.000025</td>\n",
       "      <td>0.000025</td>\n",
       "      <td>0.044285</td>\n",
       "    </tr>\n",
       "  </tbody>\n",
       "</table>\n",
       "</div>"
      ],
      "text/plain": [
       "                Open      High       Low    Volume\n",
       "Date                                              \n",
       "1986-03-13  0.000000  0.000027  0.000000  1.000000\n",
       "1986-03-14  0.000025  0.000030  0.000025  0.297096\n",
       "1986-03-17  0.000035  0.000032  0.000036  0.127119\n",
       "1986-03-18  0.000040  0.000032  0.000030  0.063588\n",
       "1986-03-19  0.000033  0.000025  0.000025  0.044285"
      ]
     },
     "metadata": {},
     "output_type": "display_data"
    },
    {
     "name": "stdout",
     "output_type": "stream",
     "text": [
      "Shape of features :  (9083, 4)\n",
      "Shape of target :  (9083, 1)\n"
     ]
    },
    {
     "data": {
      "text/html": [
       "<div>\n",
       "<style scoped>\n",
       "    .dataframe tbody tr th:only-of-type {\n",
       "        vertical-align: middle;\n",
       "    }\n",
       "\n",
       "    .dataframe tbody tr th {\n",
       "        vertical-align: top;\n",
       "    }\n",
       "\n",
       "    .dataframe thead th {\n",
       "        text-align: right;\n",
       "    }\n",
       "</style>\n",
       "<table border=\"1\" class=\"dataframe\">\n",
       "  <thead>\n",
       "    <tr style=\"text-align: right;\">\n",
       "      <th></th>\n",
       "      <th>Open</th>\n",
       "      <th>High</th>\n",
       "      <th>Low</th>\n",
       "      <th>Volume</th>\n",
       "    </tr>\n",
       "    <tr>\n",
       "      <th>Date</th>\n",
       "      <th></th>\n",
       "      <th></th>\n",
       "      <th></th>\n",
       "      <th></th>\n",
       "    </tr>\n",
       "  </thead>\n",
       "  <tbody>\n",
       "    <tr>\n",
       "      <th>2022-03-17</th>\n",
       "      <td>0.851015</td>\n",
       "      <td>0.845356</td>\n",
       "      <td>0.845577</td>\n",
       "      <td>0.027696</td>\n",
       "    </tr>\n",
       "    <tr>\n",
       "      <th>2022-03-18</th>\n",
       "      <td>0.857052</td>\n",
       "      <td>0.860775</td>\n",
       "      <td>0.855398</td>\n",
       "      <td>0.039838</td>\n",
       "    </tr>\n",
       "    <tr>\n",
       "      <th>2022-03-21</th>\n",
       "      <td>0.867269</td>\n",
       "      <td>0.858315</td>\n",
       "      <td>0.861741</td>\n",
       "      <td>0.025301</td>\n",
       "    </tr>\n",
       "    <tr>\n",
       "      <th>2022-03-22</th>\n",
       "      <td>0.869910</td>\n",
       "      <td>0.872217</td>\n",
       "      <td>0.873053</td>\n",
       "      <td>0.024571</td>\n",
       "    </tr>\n",
       "    <tr>\n",
       "      <th>2022-03-23</th>\n",
       "      <td>0.871971</td>\n",
       "      <td>0.867154</td>\n",
       "      <td>0.869984</td>\n",
       "      <td>0.022741</td>\n",
       "    </tr>\n",
       "  </tbody>\n",
       "</table>\n",
       "</div>"
      ],
      "text/plain": [
       "                Open      High       Low    Volume\n",
       "Date                                              \n",
       "2022-03-17  0.851015  0.845356  0.845577  0.027696\n",
       "2022-03-18  0.857052  0.860775  0.855398  0.039838\n",
       "2022-03-21  0.867269  0.858315  0.861741  0.025301\n",
       "2022-03-22  0.869910  0.872217  0.873053  0.024571\n",
       "2022-03-23  0.871971  0.867154  0.869984  0.022741"
      ]
     },
     "metadata": {},
     "output_type": "display_data"
    },
    {
     "data": {
      "text/html": [
       "<div>\n",
       "<style scoped>\n",
       "    .dataframe tbody tr th:only-of-type {\n",
       "        vertical-align: middle;\n",
       "    }\n",
       "\n",
       "    .dataframe tbody tr th {\n",
       "        vertical-align: top;\n",
       "    }\n",
       "\n",
       "    .dataframe thead th {\n",
       "        text-align: right;\n",
       "    }\n",
       "</style>\n",
       "<table border=\"1\" class=\"dataframe\">\n",
       "  <thead>\n",
       "    <tr style=\"text-align: right;\">\n",
       "      <th></th>\n",
       "      <th>Adj Close</th>\n",
       "    </tr>\n",
       "    <tr>\n",
       "      <th>Date</th>\n",
       "      <th></th>\n",
       "    </tr>\n",
       "  </thead>\n",
       "  <tbody>\n",
       "    <tr>\n",
       "      <th>2022-03-17</th>\n",
       "      <td>300.429993</td>\n",
       "    </tr>\n",
       "    <tr>\n",
       "      <th>2022-03-18</th>\n",
       "      <td>299.160004</td>\n",
       "    </tr>\n",
       "    <tr>\n",
       "      <th>2022-03-21</th>\n",
       "      <td>304.059998</td>\n",
       "    </tr>\n",
       "    <tr>\n",
       "      <th>2022-03-22</th>\n",
       "      <td>299.489990</td>\n",
       "    </tr>\n",
       "    <tr>\n",
       "      <th>2022-03-23</th>\n",
       "      <td>304.100006</td>\n",
       "    </tr>\n",
       "  </tbody>\n",
       "</table>\n",
       "</div>"
      ],
      "text/plain": [
       "             Adj Close\n",
       "Date                  \n",
       "2022-03-17  300.429993\n",
       "2022-03-18  299.160004\n",
       "2022-03-21  304.059998\n",
       "2022-03-22  299.489990\n",
       "2022-03-23  304.100006"
      ]
     },
     "metadata": {},
     "output_type": "display_data"
    },
    {
     "name": "stdout",
     "output_type": "stream",
     "text": [
      "\n",
      " -----After process------ \n",
      "\n",
      "Shape of features :  (8993, 4)\n",
      "Shape of target :  (8993, 1)\n"
     ]
    },
    {
     "data": {
      "text/html": [
       "<div>\n",
       "<style scoped>\n",
       "    .dataframe tbody tr th:only-of-type {\n",
       "        vertical-align: middle;\n",
       "    }\n",
       "\n",
       "    .dataframe tbody tr th {\n",
       "        vertical-align: top;\n",
       "    }\n",
       "\n",
       "    .dataframe thead th {\n",
       "        text-align: right;\n",
       "    }\n",
       "</style>\n",
       "<table border=\"1\" class=\"dataframe\">\n",
       "  <thead>\n",
       "    <tr style=\"text-align: right;\">\n",
       "      <th></th>\n",
       "      <th>Adj Close</th>\n",
       "    </tr>\n",
       "    <tr>\n",
       "      <th>Date</th>\n",
       "      <th></th>\n",
       "    </tr>\n",
       "  </thead>\n",
       "  <tbody>\n",
       "    <tr>\n",
       "      <th>2021-11-08</th>\n",
       "      <td>334.644562</td>\n",
       "    </tr>\n",
       "    <tr>\n",
       "      <th>2021-11-09</th>\n",
       "      <td>329.514557</td>\n",
       "    </tr>\n",
       "    <tr>\n",
       "      <th>2021-11-10</th>\n",
       "      <td>331.138214</td>\n",
       "    </tr>\n",
       "    <tr>\n",
       "      <th>2021-11-11</th>\n",
       "      <td>335.411560</td>\n",
       "    </tr>\n",
       "    <tr>\n",
       "      <th>2021-11-12</th>\n",
       "      <td>334.764099</td>\n",
       "    </tr>\n",
       "  </tbody>\n",
       "</table>\n",
       "</div>"
      ],
      "text/plain": [
       "             Adj Close\n",
       "Date                  \n",
       "2021-11-08  334.644562\n",
       "2021-11-09  329.514557\n",
       "2021-11-10  331.138214\n",
       "2021-11-11  335.411560\n",
       "2021-11-12  334.764099"
      ]
     },
     "metadata": {},
     "output_type": "display_data"
    }
   ],
   "source": [
    "display(feature_minmax_transform.head())\n",
    "print('Shape of features : ', feature_minmax_transform.shape)\n",
    "print('Shape of target : ', target_adj_close.shape)\n",
    "\n",
    "# Shift target array because we want to predict the n + 1 day value\n",
    "\n",
    "\n",
    "target_adj_close = target_adj_close.shift(-1)\n",
    "validation_y = target_adj_close[-90:-1]\n",
    "target_adj_close = target_adj_close[:-90]\n",
    "\n",
    "# Taking last 90 rows of data to be validation set\n",
    "validation_X = feature_minmax_transform[-90:-1]\n",
    "feature_minmax_transform = feature_minmax_transform[:-90]\n",
    "display(validation_X.tail())\n",
    "display(validation_y.tail())\n",
    "\n",
    "print(\"\\n -----After process------ \\n\")\n",
    "print('Shape of features : ', feature_minmax_transform.shape)\n",
    "print('Shape of target : ', target_adj_close.shape)\n",
    "display(target_adj_close.tail())"
   ]
  },
  {
   "cell_type": "markdown",
   "metadata": {},
   "source": [
    "# Train test Split using Timeseries split"
   ]
  },
  {
   "cell_type": "code",
   "execution_count": 14,
   "metadata": {},
   "outputs": [],
   "source": [
    "ts_split= TimeSeriesSplit(n_splits=10)\n",
    "for train_index, test_index in ts_split.split(feature_minmax_transform):\n",
    "        X_train, X_test = feature_minmax_transform[:len(train_index)], feature_minmax_transform[len(train_index): (len(train_index)+len(test_index))]\n",
    "        y_train, y_test = target_adj_close[:len(train_index)].values.ravel(), target_adj_close[len(train_index): (len(train_index)+len(test_index))].values.ravel()"
   ]
  },
  {
   "cell_type": "code",
   "execution_count": 15,
   "metadata": {},
   "outputs": [
    {
     "data": {
      "text/plain": [
       "(8176, 4)"
      ]
     },
     "execution_count": 15,
     "metadata": {},
     "output_type": "execute_result"
    }
   ],
   "source": [
    "\n",
    "X_train.shape"
   ]
  },
  {
   "cell_type": "code",
   "execution_count": 16,
   "metadata": {},
   "outputs": [
    {
     "data": {
      "text/plain": [
       "(817, 4)"
      ]
     },
     "execution_count": 16,
     "metadata": {},
     "output_type": "execute_result"
    }
   ],
   "source": [
    "X_test.shape"
   ]
  },
  {
   "cell_type": "code",
   "execution_count": 17,
   "metadata": {},
   "outputs": [
    {
     "data": {
      "text/plain": [
       "(8176,)"
      ]
     },
     "execution_count": 17,
     "metadata": {},
     "output_type": "execute_result"
    }
   ],
   "source": [
    "y_train.shape"
   ]
  },
  {
   "cell_type": "code",
   "execution_count": 18,
   "metadata": {},
   "outputs": [
    {
     "data": {
      "text/plain": [
       "(817,)"
      ]
     },
     "execution_count": 18,
     "metadata": {},
     "output_type": "execute_result"
    }
   ],
   "source": [
    "y_test.shape"
   ]
  },
  {
   "cell_type": "code",
   "execution_count": 19,
   "metadata": {},
   "outputs": [],
   "source": [
    "def validate_result(model, model_name):\n",
    "    predicted = model.predict(validation_X)\n",
    "    RSME_score = np.sqrt(mean_squared_error(validation_y, predicted))\n",
    "    print('RMSE: ', RSME_score)\n",
    "    \n",
    "    R2_score = r2_score(validation_y, predicted)\n",
    "    print('R2 score: ', R2_score)\n",
    "\n",
    "    plt.plot(validation_y.index, predicted,'r', label='Predict')\n",
    "    plt.plot(validation_y.index, validation_y,'b', label='Actual')\n",
    "    plt.ylabel('Price')\n",
    "    plt.gca().xaxis.set_major_formatter(mdates.DateFormatter('%Y-%m-%d'))\n",
    "    plt.gca().xaxis.set_major_locator(mdates.MonthLocator())\n",
    "    plt.title(model_name + ' Predict vs Actual')\n",
    "    plt.legend(loc='upper right')\n",
    "    plt.show()"
   ]
  },
  {
   "cell_type": "markdown",
   "metadata": {},
   "source": [
    "# Benchmark Model"
   ]
  },
  {
   "cell_type": "code",
   "execution_count": 20,
   "metadata": {},
   "outputs": [
    {
     "name": "stdout",
     "output_type": "stream",
     "text": [
      "RMSE:  209.66947344119035\n",
      "R2 score:  -119.13211468450538\n"
     ]
    },
    {
     "data": {
      "image/png": "[encoded data removed]",
      "text/plain": [
       "<Figure size 640x480 with 1 Axes>"
      ]
     },
     "metadata": {},
     "output_type": "display_data"
    }
   ],
   "source": [
    "from sklearn.tree import DecisionTreeRegressor\n",
    "\n",
    "dt = DecisionTreeRegressor(random_state=0)\n",
    "\n",
    "benchmark_dt=dt.fit(X_train, y_train)\n",
    "\n",
    "validate_result(benchmark_dt, 'Decision Tree Regression')"
   ]
  },
  {
   "cell_type": "markdown",
   "metadata": {},
   "source": [
    "# Process the data for LSTM"
   ]
  },
  {
   "cell_type": "code",
   "execution_count": 21,
   "metadata": {},
   "outputs": [],
   "source": [
    "X_train =np.array(X_train)\n",
    "X_test =np.array(X_test)\n",
    "\n",
    "X_tr_t = X_train.reshape(X_train.shape[0], 1, X_train.shape[1])\n",
    "X_tst_t = X_test.reshape(X_test.shape[0], 1, X_test.shape[1])"
   ]
  },
  {
   "cell_type": "markdown",
   "metadata": {},
   "source": [
    "# Model building : LSTM"
   ]
  },
  {
   "cell_type": "code",
   "execution_count": 22,
   "metadata": {},
   "outputs": [
    {
     "name": "stdout",
     "output_type": "stream",
     "text": [
      "Epoch 1/200\n",
      "1022/1022 [==============================] - 8s 5ms/step - loss: 202.0299\n",
      "Epoch 2/200\n",
      "1022/1022 [==============================] - 3s 3ms/step - loss: 197.9244\n",
      "Epoch 3/200\n",
      "1022/1022 [==============================] - 3s 3ms/step - loss: 179.2041\n",
      "Epoch 4/200\n",
      "1022/1022 [==============================] - 4s 4ms/step - loss: 144.2872\n",
      "Epoch 5/200\n",
      "1022/1022 [==============================] - 3s 3ms/step - loss: 109.7324\n",
      "Epoch 6/200\n",
      "1022/1022 [==============================] - 3s 3ms/step - loss: 76.9869\n",
      "Epoch 7/200\n",
      "1022/1022 [==============================] - 3s 3ms/step - loss: 48.6590\n",
      "Epoch 8/200\n",
      "1022/1022 [==============================] - 3s 3ms/step - loss: 27.4613\n",
      "Epoch 9/200\n",
      "1022/1022 [==============================] - 4s 4ms/step - loss: 14.3307\n",
      "Epoch 10/200\n",
      "1022/1022 [==============================] - 4s 4ms/step - loss: 7.7830\n",
      "Epoch 11/200\n",
      "1022/1022 [==============================] - 3s 3ms/step - loss: 5.1858\n",
      "Epoch 12/200\n",
      "1022/1022 [==============================] - 5s 5ms/step - loss: 4.2444\n",
      "Epoch 13/200\n",
      "1022/1022 [==============================] - 4s 4ms/step - loss: 3.8032\n",
      "Epoch 14/200\n",
      "1022/1022 [==============================] - 4s 4ms/step - loss: 3.5185\n",
      "Epoch 15/200\n",
      "1022/1022 [==============================] - 4s 4ms/step - loss: 3.3090\n",
      "Epoch 16/200\n",
      "1022/1022 [==============================] - 5s 5ms/step - loss: 3.1494\n",
      "Epoch 17/200\n",
      "1022/1022 [==============================] - 4s 4ms/step - loss: 3.0260\n",
      "Epoch 18/200\n",
      "1022/1022 [==============================] - 4s 4ms/step - loss: 2.9300\n",
      "Epoch 19/200\n",
      "1022/1022 [==============================] - 4s 4ms/step - loss: 2.8547\n",
      "Epoch 20/200\n",
      "1022/1022 [==============================] - 4s 4ms/step - loss: 2.7953\n",
      "Epoch 21/200\n",
      "1022/1022 [==============================] - 3s 3ms/step - loss: 2.7478\n",
      "Epoch 22/200\n",
      "1022/1022 [==============================] - 4s 4ms/step - loss: 2.7089\n",
      "Epoch 23/200\n",
      "1022/1022 [==============================] - 4s 4ms/step - loss: 2.6764\n",
      "Epoch 24/200\n",
      "1022/1022 [==============================] - 5s 5ms/step - loss: 2.6485\n",
      "Epoch 25/200\n",
      "1022/1022 [==============================] - 4s 4ms/step - loss: 2.6238\n",
      "Epoch 26/200\n",
      "1022/1022 [==============================] - 4s 4ms/step - loss: 2.6014\n",
      "Epoch 27/200\n",
      "1022/1022 [==============================] - 4s 4ms/step - loss: 2.5806\n",
      "Epoch 28/200\n",
      "1022/1022 [==============================] - 3s 3ms/step - loss: 2.5610\n",
      "Epoch 29/200\n",
      "1022/1022 [==============================] - 4s 4ms/step - loss: 2.5423\n",
      "Epoch 30/200\n",
      "1022/1022 [==============================] - 5s 5ms/step - loss: 2.5243\n",
      "Epoch 31/200\n",
      "1022/1022 [==============================] - 4s 4ms/step - loss: 2.5068\n",
      "Epoch 32/200\n",
      "1022/1022 [==============================] - 4s 4ms/step - loss: 2.4898\n",
      "Epoch 33/200\n",
      "1022/1022 [==============================] - 4s 3ms/step - loss: 2.4733\n",
      "Epoch 34/200\n",
      "1022/1022 [==============================] - 4s 3ms/step - loss: 2.4570\n",
      "Epoch 35/200\n",
      "1022/1022 [==============================] - 3s 3ms/step - loss: 2.4412\n",
      "Epoch 36/200\n",
      "1022/1022 [==============================] - 3s 3ms/step - loss: 2.4256\n",
      "Epoch 37/200\n",
      "1022/1022 [==============================] - 3s 3ms/step - loss: 2.4103\n",
      "Epoch 38/200\n",
      "1022/1022 [==============================] - 3s 3ms/step - loss: 2.3954\n",
      "Epoch 39/200\n",
      "1022/1022 [==============================] - 3s 3ms/step - loss: 2.3807\n",
      "Epoch 40/200\n",
      "1022/1022 [==============================] - 3s 3ms/step - loss: 2.3663\n",
      "Epoch 41/200\n",
      "1022/1022 [==============================] - 4s 3ms/step - loss: 2.3523\n",
      "Epoch 42/200\n",
      "1022/1022 [==============================] - 3s 3ms/step - loss: 2.3385\n",
      "Epoch 43/200\n",
      "1022/1022 [==============================] - 3s 3ms/step - loss: 2.3249\n",
      "Epoch 44/200\n",
      "1022/1022 [==============================] - 4s 3ms/step - loss: 2.3117\n",
      "Epoch 45/200\n",
      "1022/1022 [==============================] - 3s 3ms/step - loss: 2.2987\n",
      "Epoch 46/200\n",
      "1022/1022 [==============================] - 3s 3ms/step - loss: 2.2860\n",
      "Epoch 47/200\n",
      "1022/1022 [==============================] - 3s 3ms/step - loss: 2.2735\n",
      "Epoch 48/200\n",
      "1022/1022 [==============================] - 3s 3ms/step - loss: 2.2613\n",
      "Epoch 49/200\n",
      "1022/1022 [==============================] - 3s 3ms/step - loss: 2.2493\n",
      "Epoch 50/200\n",
      "1022/1022 [==============================] - 3s 3ms/step - loss: 2.2376\n",
      "Epoch 51/200\n",
      "1022/1022 [==============================] - 3s 3ms/step - loss: 2.2262\n",
      "Epoch 52/200\n",
      "1022/1022 [==============================] - 4s 4ms/step - loss: 2.2149\n",
      "Epoch 53/200\n",
      "1022/1022 [==============================] - 3s 3ms/step - loss: 2.2040\n",
      "Epoch 54/200\n",
      "1022/1022 [==============================] - 3s 3ms/step - loss: 2.1932\n",
      "Epoch 55/200\n",
      "1022/1022 [==============================] - 4s 4ms/step - loss: 2.1827\n",
      "Epoch 56/200\n",
      "1022/1022 [==============================] - 4s 4ms/step - loss: 2.1724\n",
      "Epoch 57/200\n",
      "1022/1022 [==============================] - 4s 4ms/step - loss: 2.1623\n",
      "Epoch 58/200\n",
      "1022/1022 [==============================] - 4s 4ms/step - loss: 2.1524\n",
      "Epoch 59/200\n",
      "1022/1022 [==============================] - 2s 2ms/step - loss: 2.1427\n",
      "Epoch 60/200\n",
      "1022/1022 [==============================] - 2s 2ms/step - loss: 2.1332\n",
      "Epoch 61/200\n",
      "1022/1022 [==============================] - 2s 2ms/step - loss: 2.1240\n",
      "Epoch 62/200\n",
      "1022/1022 [==============================] - 2s 2ms/step - loss: 2.1149\n",
      "Epoch 63/200\n",
      "1022/1022 [==============================] - 2s 2ms/step - loss: 2.1060\n",
      "Epoch 64/200\n",
      "1022/1022 [==============================] - 2s 2ms/step - loss: 2.0973\n",
      "Epoch 65/200\n",
      "1022/1022 [==============================] - 2s 2ms/step - loss: 2.0888\n",
      "Epoch 66/200\n",
      "1022/1022 [==============================] - 2s 2ms/step - loss: 2.0804\n",
      "Epoch 67/200\n",
      "1022/1022 [==============================] - 3s 3ms/step - loss: 2.0723\n",
      "Epoch 68/200\n",
      "1022/1022 [==============================] - 2s 2ms/step - loss: 2.0642\n",
      "Epoch 69/200\n",
      "1022/1022 [==============================] - 3s 2ms/step - loss: 2.0564\n",
      "Epoch 70/200\n",
      "1022/1022 [==============================] - 3s 3ms/step - loss: 2.0488\n",
      "Epoch 71/200\n",
      "1022/1022 [==============================] - 3s 3ms/step - loss: 2.0412\n",
      "Epoch 72/200\n",
      "1022/1022 [==============================] - 4s 4ms/step - loss: 2.0339\n",
      "Epoch 73/200\n",
      "1022/1022 [==============================] - 3s 3ms/step - loss: 2.0267\n",
      "Epoch 74/200\n",
      "1022/1022 [==============================] - 3s 3ms/step - loss: 2.0196\n",
      "Epoch 75/200\n",
      "1022/1022 [==============================] - 3s 3ms/step - loss: 2.0127\n",
      "Epoch 76/200\n",
      "1022/1022 [==============================] - 3s 3ms/step - loss: 2.0060\n",
      "Epoch 77/200\n",
      "1022/1022 [==============================] - 3s 3ms/step - loss: 1.9993\n",
      "Epoch 78/200\n",
      "1022/1022 [==============================] - 2s 2ms/step - loss: 1.9928\n",
      "Epoch 79/200\n",
      "1022/1022 [==============================] - 3s 2ms/step - loss: 1.9865\n",
      "Epoch 80/200\n",
      "1022/1022 [==============================] - 2s 2ms/step - loss: 1.9802\n",
      "Epoch 81/200\n",
      "1022/1022 [==============================] - 2s 2ms/step - loss: 1.9741\n",
      "Epoch 82/200\n",
      "1022/1022 [==============================] - 2s 2ms/step - loss: 1.9682\n",
      "Epoch 83/200\n",
      "1022/1022 [==============================] - 3s 2ms/step - loss: 1.9623\n",
      "Epoch 84/200\n",
      "1022/1022 [==============================] - 2s 2ms/step - loss: 1.9565\n",
      "Epoch 85/200\n",
      "1022/1022 [==============================] - 2s 2ms/step - loss: 1.9510\n",
      "Epoch 86/200\n",
      "1022/1022 [==============================] - 2s 2ms/step - loss: 1.9455\n",
      "Epoch 87/200\n",
      "1022/1022 [==============================] - 3s 2ms/step - loss: 1.9400\n",
      "Epoch 88/200\n",
      "1022/1022 [==============================] - 3s 2ms/step - loss: 1.9349\n",
      "Epoch 89/200\n",
      "1022/1022 [==============================] - 2s 2ms/step - loss: 1.9298\n",
      "Epoch 90/200\n",
      "1022/1022 [==============================] - 2s 2ms/step - loss: 1.9247\n",
      "Epoch 91/200\n",
      "1022/1022 [==============================] - 2s 2ms/step - loss: 1.9199\n",
      "Epoch 92/200\n",
      "1022/1022 [==============================] - 2s 2ms/step - loss: 1.9152\n",
      "Epoch 93/200\n",
      "1022/1022 [==============================] - 3s 3ms/step - loss: 1.9105\n",
      "Epoch 94/200\n",
      "1022/1022 [==============================] - 2s 2ms/step - loss: 1.9060\n",
      "Epoch 95/200\n",
      "1022/1022 [==============================] - 2s 2ms/step - loss: 1.9012\n",
      "Epoch 96/200\n",
      "1022/1022 [==============================] - 3s 3ms/step - loss: 1.8967\n",
      "Epoch 97/200\n",
      "1022/1022 [==============================] - 4s 4ms/step - loss: 1.8920\n",
      "Epoch 98/200\n",
      "1022/1022 [==============================] - 5s 5ms/step - loss: 1.8877\n",
      "Epoch 99/200\n",
      "1022/1022 [==============================] - 5s 5ms/step - loss: 1.8834\n",
      "Epoch 100/200\n",
      "1022/1022 [==============================] - 5s 5ms/step - loss: 1.8792\n",
      "Epoch 101/200\n",
      "1022/1022 [==============================] - 5s 5ms/step - loss: 1.8751\n",
      "Epoch 102/200\n",
      "1022/1022 [==============================] - 5s 5ms/step - loss: 1.8711\n",
      "Epoch 103/200\n",
      "1022/1022 [==============================] - 5s 5ms/step - loss: 1.8671\n",
      "Epoch 104/200\n",
      "1022/1022 [==============================] - 5s 5ms/step - loss: 1.8632\n",
      "Epoch 105/200\n",
      "1022/1022 [==============================] - 5s 5ms/step - loss: 1.8593\n",
      "Epoch 106/200\n",
      "1022/1022 [==============================] - 5s 5ms/step - loss: 1.8555\n",
      "Epoch 107/200\n",
      "1022/1022 [==============================] - 5s 5ms/step - loss: 1.8518\n",
      "Epoch 108/200\n",
      "1022/1022 [==============================] - 5s 5ms/step - loss: 1.8481\n",
      "Epoch 109/200\n",
      "1022/1022 [==============================] - 5s 5ms/step - loss: 1.8444\n",
      "Epoch 110/200\n",
      "1022/1022 [==============================] - 5s 5ms/step - loss: 1.8408\n",
      "Epoch 111/200\n",
      "1022/1022 [==============================] - 5s 5ms/step - loss: 1.8373\n",
      "Epoch 112/200\n",
      "1022/1022 [==============================] - 5s 5ms/step - loss: 1.8338\n",
      "Epoch 113/200\n",
      "1022/1022 [==============================] - 5s 5ms/step - loss: 1.8303\n",
      "Epoch 114/200\n",
      "1022/1022 [==============================] - 5s 5ms/step - loss: 1.8269\n",
      "Epoch 115/200\n",
      "1022/1022 [==============================] - 5s 5ms/step - loss: 1.8235\n",
      "Epoch 116/200\n",
      "1022/1022 [==============================] - 5s 5ms/step - loss: 1.8202\n",
      "Epoch 117/200\n",
      "1022/1022 [==============================] - 5s 5ms/step - loss: 1.8168\n",
      "Epoch 118/200\n",
      "1022/1022 [==============================] - 5s 5ms/step - loss: 1.8135\n",
      "Epoch 119/200\n",
      "1022/1022 [==============================] - 5s 5ms/step - loss: 1.8103\n",
      "Epoch 120/200\n",
      "1022/1022 [==============================] - 5s 5ms/step - loss: 1.8071\n",
      "Epoch 121/200\n",
      "1022/1022 [==============================] - 5s 5ms/step - loss: 1.8040\n",
      "Epoch 122/200\n",
      "1022/1022 [==============================] - 5s 5ms/step - loss: 1.8009\n",
      "Epoch 123/200\n",
      "1022/1022 [==============================] - 5s 5ms/step - loss: 1.7978\n",
      "Epoch 124/200\n",
      "1022/1022 [==============================] - 5s 5ms/step - loss: 1.7946\n",
      "Epoch 125/200\n",
      "1022/1022 [==============================] - 5s 5ms/step - loss: 1.7915\n",
      "Epoch 126/200\n",
      "1022/1022 [==============================] - 5s 5ms/step - loss: 1.7884\n",
      "Epoch 127/200\n",
      "1022/1022 [==============================] - 5s 5ms/step - loss: 1.7852\n",
      "Epoch 128/200\n",
      "1022/1022 [==============================] - 5s 5ms/step - loss: 1.7821\n",
      "Epoch 129/200\n",
      "1022/1022 [==============================] - 5s 5ms/step - loss: 1.7793\n",
      "Epoch 130/200\n",
      "1022/1022 [==============================] - 5s 5ms/step - loss: 1.7762\n",
      "Epoch 131/200\n",
      "1022/1022 [==============================] - 5s 5ms/step - loss: 1.7733\n",
      "Epoch 132/200\n",
      "1022/1022 [==============================] - 5s 5ms/step - loss: 1.7704\n",
      "Epoch 133/200\n",
      "1022/1022 [==============================] - 5s 5ms/step - loss: 1.7679\n",
      "Epoch 134/200\n",
      "1022/1022 [==============================] - 6s 6ms/step - loss: 1.7650\n",
      "Epoch 135/200\n",
      "1022/1022 [==============================] - 6s 6ms/step - loss: 1.7624\n",
      "Epoch 136/200\n",
      "1022/1022 [==============================] - 6s 5ms/step - loss: 1.7597\n",
      "Epoch 137/200\n",
      "1022/1022 [==============================] - 6s 5ms/step - loss: 1.7574\n",
      "Epoch 138/200\n",
      "1022/1022 [==============================] - 5s 5ms/step - loss: 1.7548\n",
      "Epoch 139/200\n",
      "1022/1022 [==============================] - 5s 5ms/step - loss: 1.7523\n",
      "Epoch 140/200\n",
      "1022/1022 [==============================] - 5s 5ms/step - loss: 1.7498\n",
      "Epoch 141/200\n",
      "1022/1022 [==============================] - 5s 5ms/step - loss: 1.7474\n",
      "Epoch 142/200\n",
      "1022/1022 [==============================] - 5s 4ms/step - loss: 1.7451\n",
      "Epoch 143/200\n",
      "1022/1022 [==============================] - 5s 5ms/step - loss: 1.7431\n",
      "Epoch 144/200\n",
      "1022/1022 [==============================] - 4s 4ms/step - loss: 1.7407\n",
      "Epoch 145/200\n",
      "1022/1022 [==============================] - 5s 4ms/step - loss: 1.7385\n",
      "Epoch 146/200\n",
      "1022/1022 [==============================] - 5s 5ms/step - loss: 1.7364\n",
      "Epoch 147/200\n",
      "1022/1022 [==============================] - 5s 5ms/step - loss: 1.7343\n",
      "Epoch 148/200\n",
      "1022/1022 [==============================] - 5s 5ms/step - loss: 1.7322\n",
      "Epoch 149/200\n",
      "1022/1022 [==============================] - 5s 5ms/step - loss: 1.7302\n",
      "Epoch 150/200\n",
      "1022/1022 [==============================] - 5s 5ms/step - loss: 1.7282\n",
      "Epoch 151/200\n",
      "1022/1022 [==============================] - 5s 5ms/step - loss: 1.7263\n",
      "Epoch 152/200\n",
      "1022/1022 [==============================] - 5s 5ms/step - loss: 1.7244\n",
      "Epoch 153/200\n",
      "1022/1022 [==============================] - 5s 5ms/step - loss: 1.7226\n",
      "Epoch 154/200\n",
      "1022/1022 [==============================] - 5s 5ms/step - loss: 1.7208\n",
      "Epoch 155/200\n",
      "1022/1022 [==============================] - 5s 5ms/step - loss: 1.7190\n",
      "Epoch 156/200\n",
      "1022/1022 [==============================] - 6s 5ms/step - loss: 1.7173\n",
      "Epoch 157/200\n",
      "1022/1022 [==============================] - 5s 5ms/step - loss: 1.7156\n",
      "Epoch 158/200\n",
      "1022/1022 [==============================] - 6s 6ms/step - loss: 1.7140\n",
      "Epoch 159/200\n",
      "1022/1022 [==============================] - 5s 5ms/step - loss: 1.7124\n",
      "Epoch 160/200\n",
      "1022/1022 [==============================] - 5s 5ms/step - loss: 1.7109\n",
      "Epoch 161/200\n",
      "1022/1022 [==============================] - 5s 5ms/step - loss: 1.7094\n",
      "Epoch 162/200\n",
      "1022/1022 [==============================] - 4s 4ms/step - loss: 1.7079\n",
      "Epoch 163/200\n",
      "1022/1022 [==============================] - 5s 4ms/step - loss: 1.7065\n",
      "Epoch 164/200\n",
      "1022/1022 [==============================] - 5s 5ms/step - loss: 1.7051\n",
      "Epoch 165/200\n",
      "1022/1022 [==============================] - 5s 5ms/step - loss: 1.7037\n",
      "Epoch 166/200\n",
      "1022/1022 [==============================] - 5s 4ms/step - loss: 1.7024\n",
      "Epoch 167/200\n",
      "1022/1022 [==============================] - 5s 5ms/step - loss: 1.7012\n",
      "Epoch 168/200\n",
      "1022/1022 [==============================] - 5s 5ms/step - loss: 1.7000\n",
      "Epoch 169/200\n",
      "1022/1022 [==============================] - 5s 5ms/step - loss: 1.6988\n",
      "Epoch 170/200\n",
      "1022/1022 [==============================] - 5s 4ms/step - loss: 1.6977\n",
      "Epoch 171/200\n",
      "1022/1022 [==============================] - 5s 5ms/step - loss: 1.6966\n",
      "Epoch 172/200\n",
      "1022/1022 [==============================] - 5s 5ms/step - loss: 1.6955\n",
      "Epoch 173/200\n",
      "1022/1022 [==============================] - 5s 5ms/step - loss: 1.6945\n",
      "Epoch 174/200\n",
      "1022/1022 [==============================] - 5s 4ms/step - loss: 1.6935\n",
      "Epoch 175/200\n",
      "1022/1022 [==============================] - 5s 5ms/step - loss: 1.6926\n",
      "Epoch 176/200\n",
      "1022/1022 [==============================] - 4s 4ms/step - loss: 1.6917\n",
      "Epoch 177/200\n",
      "1022/1022 [==============================] - 5s 4ms/step - loss: 1.6909\n",
      "Epoch 178/200\n",
      "1022/1022 [==============================] - 5s 5ms/step - loss: 1.6901\n",
      "Epoch 179/200\n",
      "1022/1022 [==============================] - 5s 5ms/step - loss: 1.6894\n",
      "Epoch 180/200\n",
      "1022/1022 [==============================] - 5s 4ms/step - loss: 1.6887\n",
      "Epoch 181/200\n",
      "1022/1022 [==============================] - 5s 4ms/step - loss: 1.6880\n",
      "Epoch 182/200\n",
      "1022/1022 [==============================] - 5s 5ms/step - loss: 1.6874\n",
      "Epoch 183/200\n",
      "1022/1022 [==============================] - 5s 5ms/step - loss: 1.6868\n",
      "Epoch 184/200\n",
      "1022/1022 [==============================] - 5s 5ms/step - loss: 1.6863\n",
      "Epoch 185/200\n",
      "1022/1022 [==============================] - 5s 5ms/step - loss: 1.6859\n",
      "Epoch 186/200\n",
      "1022/1022 [==============================] - 5s 4ms/step - loss: 1.6854\n",
      "Epoch 187/200\n",
      "1022/1022 [==============================] - 5s 5ms/step - loss: 1.6851\n",
      "Epoch 188/200\n",
      "1022/1022 [==============================] - 5s 5ms/step - loss: 1.6847\n",
      "Epoch 189/200\n",
      "1022/1022 [==============================] - 5s 5ms/step - loss: 1.6845\n",
      "Epoch 190/200\n",
      "1022/1022 [==============================] - 4s 4ms/step - loss: 1.6843\n",
      "Epoch 191/200\n",
      "1022/1022 [==============================] - 5s 5ms/step - loss: 1.6841\n",
      "Epoch 192/200\n",
      "1022/1022 [==============================] - 5s 5ms/step - loss: 1.6840\n",
      "Epoch 193/200\n",
      "1022/1022 [==============================] - 5s 5ms/step - loss: 1.6839\n",
      "Epoch 194/200\n",
      "1022/1022 [==============================] - 5s 5ms/step - loss: 1.6839\n",
      "Epoch 195/200\n",
      "1022/1022 [==============================] - 5s 5ms/step - loss: 1.6840\n",
      "Epoch 196/200\n",
      "1022/1022 [==============================] - 5s 5ms/step - loss: 1.6841\n",
      "Epoch 197/200\n",
      "1022/1022 [==============================] - 5s 5ms/step - loss: 1.6843\n",
      "Epoch 198/200\n",
      "1022/1022 [==============================] - 5s 4ms/step - loss: 1.6845\n",
      "Epoch 199/200\n",
      "1022/1022 [==============================] - 5s 5ms/step - loss: 1.6847\n",
      "Epoch 199: early stopping\n"
     ]
    }
   ],
   "source": [
    "\n",
    "from keras.models import Sequential\n",
    "from keras.layers import Dense\n",
    "import keras.backend as K\n",
    "from keras.callbacks import EarlyStopping\n",
    "from keras.optimizers import Adam\n",
    "from keras.models import load_model\n",
    "from keras.layers import LSTM\n",
    "K.clear_session()\n",
    "model_lstm = Sequential()\n",
    "model_lstm.add(LSTM(16, input_shape=(1, X_train.shape[1]), activation='relu', return_sequences=False))\n",
    "model_lstm.add(Dense(1))\n",
    "model_lstm.compile(loss='mean_squared_error', optimizer='adam')\n",
    "early_stop = EarlyStopping(monitor='loss', patience=5, verbose=1)\n",
    "history_model_lstm = model_lstm.fit(X_tr_t, y_train, epochs=200, batch_size=8, verbose=1, shuffle=False, callbacks=[early_stop])"
   ]
  },
  {
   "cell_type": "markdown",
   "metadata": {},
   "source": [
    "# Evaluation of Model"
   ]
  },
  {
   "cell_type": "code",
   "execution_count": 23,
   "metadata": {},
   "outputs": [
    {
     "name": "stdout",
     "output_type": "stream",
     "text": [
      "26/26 [==============================] - 1s 3ms/step\n",
      "256/256 [==============================] - 1s 4ms/step\n",
      "The R2 score on the Train set is:\t0.947\n",
      "The R2 score on the Test set is:\t0.836\n"
     ]
    }
   ],
   "source": [
    "y_pred_test_lstm = model_lstm.predict(X_tst_t)\n",
    "y_train_pred_lstm = model_lstm.predict(X_tr_t)\n",
    "print(\"The R2 score on the Train set is:\\t{:0.3f}\".format(r2_score(y_train, y_train_pred_lstm)))\n",
    "r2_train = r2_score(y_train, y_train_pred_lstm)\n",
    "\n",
    "print(\"The R2 score on the Test set is:\\t{:0.3f}\".format(r2_score(y_test, y_pred_test_lstm)))\n",
    "r2_test = r2_score(y_test, y_pred_test_lstm)\n"
   ]
  },
  {
   "cell_type": "markdown",
   "metadata": {},
   "source": [
    "## Predictions made by LSTM"
   ]
  },
  {
   "cell_type": "code",
   "execution_count": 24,
   "metadata": {},
   "outputs": [
    {
     "name": "stdout",
     "output_type": "stream",
     "text": [
      "817/817 [==============================] - 3s 3ms/step - loss: 663.2576\n"
     ]
    }
   ],
   "source": [
    "score_lstm= model_lstm.evaluate(X_tst_t, y_test, batch_size=1)"
   ]
  },
  {
   "cell_type": "code",
   "execution_count": 25,
   "metadata": {},
   "outputs": [
    {
     "name": "stdout",
     "output_type": "stream",
     "text": [
      "LSTM: 663.257568\n"
     ]
    }
   ],
   "source": [
    "print('LSTM: %f'%score_lstm)"
   ]
  },
  {
   "cell_type": "code",
   "execution_count": 26,
   "metadata": {},
   "outputs": [
    {
     "name": "stdout",
     "output_type": "stream",
     "text": [
      "26/26 [==============================] - 0s 3ms/step\n"
     ]
    }
   ],
   "source": [
    "y_pred_test_LSTM = model_lstm.predict(X_tst_t)"
   ]
  },
  {
   "cell_type": "markdown",
   "metadata": {},
   "source": [
    "# LSTM's Prediction Visual"
   ]
  },
  {
   "cell_type": "code",
   "execution_count": 27,
   "metadata": {},
   "outputs": [
    {
     "data": {
      "image/png": "[encoded data removed]",
      "text/plain": [
       "<Figure size 640x480 with 1 Axes>"
      ]
     },
     "metadata": {},
     "output_type": "display_data"
    }
   ],
   "source": [
    "plt.plot(y_test, label='True')\n",
    "plt.plot(y_pred_test_LSTM, label='LSTM')\n",
    "plt.title(\"LSTM's_Prediction\")\n",
    "plt.xlabel('Observation')\n",
    "plt.ylabel('INR_Scaled')\n",
    "plt.legend()\n",
    "plt.show()\n"
   ]
  },
  {
   "cell_type": "markdown",
   "metadata": {},
   "source": [
    "# Converting Prediction data\n",
    "In this step I have made the prediction of test data and will convert the dataframe to csv so that we can see the price difference between actual and predicted price."
   ]
  },
  {
   "cell_type": "code",
   "execution_count": 28,
   "metadata": {},
   "outputs": [],
   "source": [
    "col1 = pd.DataFrame(y_test, columns=['True'])\n",
    "\n",
    "col2 = pd.DataFrame(y_pred_test_LSTM, columns=['LSTM_prediction'])\n",
    "\n",
    "col3 = pd.DataFrame(history_model_lstm.history['loss'], columns=['Loss_LSTM'])\n",
    "results = pd.concat([col1, col2, col3], axis=1)\n",
    "results.to_excel('PredictionResults_LSTM_NonShift.xlsx')"
   ]
  },
  {
   "cell_type": "markdown",
   "metadata": {},
   "source": [
    "# Conclusion"
   ]
  },
  {
   "cell_type": "markdown",
   "metadata": {},
   "source": [
    "It is Not possible to  get a model that can 99% predict the price without any error, there are too many factors can affect the stock prices. So, we cannot hope there is a perfect model, but the general trend of predicted price is in line with the actual data, so the trader could have an indicator to reference, and makes trading decision by himself."
   ]
  }
 ],
 "metadata": {
  "kernelspec": {
   "display_name": "Python 3 (ipykernel)",
   "language": "python",
   "name": "python3"
  },
  "language_info": {
   "codemirror_mode": {
    "name": "ipython",
    "version": 3
   },
   "file_extension": ".py",
   "mimetype": "text/x-python",
   "name": "python",
   "nbconvert_exporter": "python",
   "pygments_lexer": "ipython3",
   "version": "3.9.13"
  }
 },
 "nbformat": 4,
 "nbformat_minor": 2
}
